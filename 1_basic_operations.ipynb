{
 "cells": [
  {
   "cell_type": "code",
   "execution_count": 9,
   "id": "a0082efd",
   "metadata": {},
   "outputs": [
    {
     "name": "stdout",
     "output_type": "stream",
     "text": [
      "node1 :  Tensor(\"Const_6:0\", shape=(), dtype=float32)\n",
      "node2 :  Tensor(\"Const_7:0\", shape=(), dtype=float32)\n",
      "node3 :  Tensor(\"Add_7:0\", shape=(), dtype=float32)\n",
      "sess.run([node1, node2]) :  [3.0, 4.0]\n",
      "sess.run(node3) :  7.0\n"
     ]
    }
   ],
   "source": [
    "import tensorflow.compat.v1 as tf\n",
    "tf.disable_v2_behavior()\n",
    "\n",
    "sess =  tf.compat.v1.Session()\n",
    "node1 = tf.constant(3.0)\n",
    "node2 = tf.constant(4.0)\n",
    "node3 = tf.add(node1,node2)\n",
    "    \n",
    "print(\"node1 : \", node1)\n",
    "print(\"node2 : \", node2)\n",
    "print(\"node3 : \", node3)\n",
    "    \n",
    "print(\"sess.run([node1, node2]) : \", sess.run([node1, node2]))\n",
    "print(\"sess.run(node3) : \", sess.run(node3))"
   ]
  },
  {
   "cell_type": "code",
   "execution_count": 7,
   "id": "9056bd7c",
   "metadata": {},
   "outputs": [
    {
     "name": "stdout",
     "output_type": "stream",
     "text": [
      "7.0\n",
      "[ 7.1 12.4]\n"
     ]
    }
   ],
   "source": [
    "a = tf.placeholder(tf.float32)\n",
    "b = tf.placeholder(tf.float32)\n",
    "add_note = a + b\n",
    "print(sess.run(add_note, feed_dict={a:3, b:4}))\n",
    "print(sess.run(add_note, feed_dict={a: [1.5, 3.2], b:[5.6, 9.2]}))"
   ]
  },
  {
   "cell_type": "code",
   "execution_count": null,
   "id": "fe09f584",
   "metadata": {},
   "outputs": [],
   "source": []
  }
 ],
 "metadata": {
  "jupytext": {
   "formats": "ipynb,auto:light"
  },
  "kernelspec": {
   "display_name": "Python 3",
   "language": "python",
   "name": "python3"
  },
  "language_info": {
   "codemirror_mode": {
    "name": "ipython",
    "version": 3
   },
   "file_extension": ".py",
   "mimetype": "text/x-python",
   "name": "python",
   "nbconvert_exporter": "python",
   "pygments_lexer": "ipython3",
   "version": "3.8.8"
  }
 },
 "nbformat": 4,
 "nbformat_minor": 5
}
