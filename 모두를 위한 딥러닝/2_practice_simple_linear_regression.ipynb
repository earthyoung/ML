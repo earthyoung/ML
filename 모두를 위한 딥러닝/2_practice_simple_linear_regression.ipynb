{
 "cells": [
  {
   "cell_type": "code",
   "execution_count": 23,
   "id": "ea022f30",
   "metadata": {},
   "outputs": [],
   "source": [
    "import tensorflow.compat.v1 as tf\n",
    "tf.disable_v2_behavior()\n",
    "\n",
    "x_train = [1,2,3]\n",
    "y_train = [2,4,6]\n",
    "\n",
    "W = tf.Variable(tf.random.normal([1]), name = 'weight')\n",
    "b = tf.Variable(tf.random.normal([1]), name = 'bias')\n",
    "\n",
    "hypothesis = x_train*W + b\n",
    "\n",
    "cost = tf.reduce_mean(tf.square(hypothesis-y_train))"
   ]
  },
  {
   "cell_type": "code",
   "execution_count": 25,
   "id": "8384820e",
   "metadata": {},
   "outputs": [],
   "source": [
    "optimizer = tf.train.GradientDescentOptimizer(learning_rate=0.01)\n",
    "train = optimizer.minimize(cost)"
   ]
  },
  {
   "cell_type": "code",
   "execution_count": 45,
   "id": "66a75458",
   "metadata": {},
   "outputs": [
    {
     "name": "stdout",
     "output_type": "stream",
     "text": [
      "0 35.74751 [-0.9341675] [0.390384]\n",
      "100 0.17587842 [1.5128996] [1.1072445]\n",
      "200 0.10868224 [1.6171091] [0.87040126]\n",
      "300 0.067158975 [1.6990129] [0.6842147]\n",
      "400 0.041500192 [1.7633966] [0.5378551]\n",
      "500 0.025644591 [1.8140082] [0.42280313]\n",
      "600 0.015846798 [1.8537935] [0.33236167]\n",
      "700 0.0097923735 [1.8850683] [0.26126674]\n",
      "800 0.0060510933 [1.9096532] [0.20537956]\n",
      "900 0.003739197 [1.9289794] [0.16144687]\n",
      "1000 0.002310597 [1.9441713] [0.12691185]\n",
      "1100 0.0014278046 [1.9561135] [0.09976425]\n",
      "1200 0.0008822997 [1.9655012] [0.07842378]\n",
      "1300 0.0005452097 [1.9728807] [0.06164832]\n",
      "1400 0.00033690527 [1.9786817] [0.04846125]\n",
      "1500 0.00020818226 [1.9832422] [0.03809459]\n",
      "1600 0.00012864372 [1.9868269] [0.02994574]\n",
      "1700 7.949437e-05 [1.9896445] [0.02354005]\n",
      "1800 4.9123362e-05 [1.9918598] [0.01850473]\n",
      "1900 3.0355157e-05 [1.993601] [0.01454652]\n",
      "2000 1.8758592e-05 [1.9949697] [0.01143503]\n"
     ]
    }
   ],
   "source": [
    "#Launch the graph in a Session\n",
    "sess = tf.Session()\n",
    "\n",
    "#Initialize global variables in a graph\n",
    "sess.run(tf.global_variables_initializer())\n",
    "\n",
    "for step in range(2001):   # range(n) 숫자 하나인 경우 : 1부터 (n-1)까지의 범위를 의미\n",
    "    sess.run(train)\n",
    "    if step % 100 == 0:\n",
    "        print(step, sess.run(cost), sess.run(W), sess.run(b))\n",
    "        \n",
    "# sess = tf.Session() 코드를 쓰는 경우, "
   ]
  },
  {
   "cell_type": "code",
   "execution_count": 44,
   "id": "ed77a4f5",
   "metadata": {},
   "outputs": [
    {
     "name": "stdout",
     "output_type": "stream",
     "text": [
      "0 1.2972931e-11 [1.9999955] [8.980455e-06]\n",
      "100 1.2972931e-11 [1.9999955] [8.980455e-06]\n",
      "200 1.2972931e-11 [1.9999955] [8.980455e-06]\n",
      "300 1.2972931e-11 [1.9999955] [8.980455e-06]\n",
      "400 1.2972931e-11 [1.9999955] [8.980455e-06]\n",
      "500 1.2972931e-11 [1.9999955] [8.980455e-06]\n",
      "600 1.2972931e-11 [1.9999955] [8.980455e-06]\n",
      "700 1.2972931e-11 [1.9999955] [8.980455e-06]\n",
      "800 1.2972931e-11 [1.9999955] [8.980455e-06]\n",
      "900 1.2972931e-11 [1.9999955] [8.980455e-06]\n",
      "1000 1.2972931e-11 [1.9999955] [8.980455e-06]\n",
      "1100 1.2972931e-11 [1.9999955] [8.980455e-06]\n",
      "1200 1.2972931e-11 [1.9999955] [8.980455e-06]\n",
      "1300 1.2972931e-11 [1.9999955] [8.980455e-06]\n",
      "1400 1.2972931e-11 [1.9999955] [8.980455e-06]\n",
      "1500 1.2972931e-11 [1.9999955] [8.980455e-06]\n",
      "1600 1.2972931e-11 [1.9999955] [8.980455e-06]\n",
      "1700 1.2972931e-11 [1.9999955] [8.980455e-06]\n",
      "1800 1.2972931e-11 [1.9999955] [8.980455e-06]\n",
      "1900 1.2972931e-11 [1.9999955] [8.980455e-06]\n",
      "2000 1.2972931e-11 [1.9999955] [8.980455e-06]\n"
     ]
    }
   ],
   "source": [
    "# 같은 과정을 tf.placeholder로 구현\n",
    "# 장점 : 그때그때 다른 값들을 넣어서 test 가능\n",
    "\n",
    "# X, Y 변수를 placeholder 타입?으로 지정\n",
    "X = tf.placeholder(tf.float32)\n",
    "Y = tf.placeholder(tf.float32)\n",
    "\n",
    "for step in range(2001):\n",
    "    cost_val, W_val, b_val, _ = \\\n",
    "        sess.run([cost, W, b, train],\n",
    "                feed_dict = {X: [1,2,3], Y: [1,2,3]})\n",
    "    \n",
    "    if step % 100 == 0:\n",
    "        print(step, cost_val, W_val, b_val)\n",
    "        \n",
    "# 앞의 과정과 비슷해 보이는데 무슨 차이일까?"
   ]
  },
  {
   "cell_type": "code",
   "execution_count": 43,
   "id": "e2af0f26",
   "metadata": {},
   "outputs": [
    {
     "name": "stdout",
     "output_type": "stream",
     "text": [
      "0 1.2972931e-11 [1.9999955] [8.980455e-06]\n",
      "100 1.2972931e-11 [1.9999955] [8.980455e-06]\n",
      "200 1.2972931e-11 [1.9999955] [8.980455e-06]\n",
      "300 1.2972931e-11 [1.9999955] [8.980455e-06]\n",
      "400 1.2972931e-11 [1.9999955] [8.980455e-06]\n",
      "500 1.2972931e-11 [1.9999955] [8.980455e-06]\n",
      "600 1.2972931e-11 [1.9999955] [8.980455e-06]\n",
      "700 1.2972931e-11 [1.9999955] [8.980455e-06]\n",
      "800 1.2972931e-11 [1.9999955] [8.980455e-06]\n",
      "900 1.2972931e-11 [1.9999955] [8.980455e-06]\n",
      "1000 1.2972931e-11 [1.9999955] [8.980455e-06]\n",
      "1100 1.2972931e-11 [1.9999955] [8.980455e-06]\n",
      "1200 1.2972931e-11 [1.9999955] [8.980455e-06]\n",
      "1300 1.2972931e-11 [1.9999955] [8.980455e-06]\n",
      "1400 1.2972931e-11 [1.9999955] [8.980455e-06]\n",
      "1500 1.2972931e-11 [1.9999955] [8.980455e-06]\n",
      "1600 1.2972931e-11 [1.9999955] [8.980455e-06]\n",
      "1700 1.2972931e-11 [1.9999955] [8.980455e-06]\n",
      "1800 1.2972931e-11 [1.9999955] [8.980455e-06]\n",
      "1900 1.2972931e-11 [1.9999955] [8.980455e-06]\n",
      "2000 1.2972931e-11 [1.9999955] [8.980455e-06]\n"
     ]
    }
   ],
   "source": [
    "# placeholder에 다른 값 넣어서 학습하기\n",
    "# 이미 앞에서 X, Y를 placeholder로 지정하고 + hypothesis, cost 의 식을 입력했으므로, sess.run에서 feed_dict의 값만 다르게 주면 된다!\n",
    "\n",
    "for step in range(2001):\n",
    "    cost_val, W_val, b_val, _ = \\\n",
    "        sess.run([cost, W, b, train],\n",
    "                feed_dict = {X: [6,8,13,15,19], Y: [7.1, 9.1, 14.1, 16.1, 20.1]})\n",
    "    \n",
    "    #이 경우, hypothesis : X * 1 + 1.1 이다.\n",
    "    \n",
    "    if step % 100 == 0:    # step % 100으로 나오니까 결과가 더 짤막하다.\n",
    "        print(step, cost_val, W_val, b_val)"
   ]
  },
  {
   "cell_type": "code",
   "execution_count": 47,
   "id": "8573f86e",
   "metadata": {},
   "outputs": [
    {
     "name": "stdout",
     "output_type": "stream",
     "text": [
      "[ 9.986283 13.976223]\n"
     ]
    }
   ],
   "source": [
    "hypothesis = X*W+b\n",
    "print(sess.run(hypothesis, feed_dict = {X : [5, 7]}))\n",
    "\n",
    "# 위에서는 hypothesis가 x_train * W + b로 되어 있고, 이때의 x_train과 y_train의 값은 2배 관계로 되어있다.\n",
    "# => 그래서 이론적으로는 hypothesis에서 W : 2, b : 0이라서 위와 같은 결과가 나오는 것 같다."
   ]
  }
 ],
 "metadata": {
  "kernelspec": {
   "display_name": "Python 3",
   "language": "python",
   "name": "python3"
  },
  "language_info": {
   "codemirror_mode": {
    "name": "ipython",
    "version": 3
   },
   "file_extension": ".py",
   "mimetype": "text/x-python",
   "name": "python",
   "nbconvert_exporter": "python",
   "pygments_lexer": "ipython3",
   "version": "3.8.8"
  }
 },
 "nbformat": 4,
 "nbformat_minor": 5
}
