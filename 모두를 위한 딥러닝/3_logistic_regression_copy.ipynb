{
 "cells": [
  {
   "cell_type": "markdown",
   "id": "ca0c197c",
   "metadata": {},
   "source": [
    "# logistic regression example\n",
    "\n",
    "## 출처 : https://wooiljeong.github.io/ml/tf2_4/  <- 해당 코드를 그대로 타이핑하면서 이해해보기\n",
    "\n",
    "#### pandas, seaborn은 처음 보는 module이었다. "
   ]
  },
  {
   "cell_type": "markdown",
   "id": "1326653d",
   "metadata": {},
   "source": [
    "### module import"
   ]
  },
  {
   "cell_type": "code",
   "execution_count": 2,
   "id": "b2352684",
   "metadata": {},
   "outputs": [],
   "source": [
    "import tensorflow as tf\n",
    "import numpy as np\n",
    "import pandas as pd\n",
    "import seaborn as sns\n",
    "import matplotlib.pyplot as plt"
   ]
  },
  {
   "cell_type": "markdown",
   "id": "fe323bcd",
   "metadata": {},
   "source": [
    "### train data 입력하기\n",
    "#### array를 직접 입력할 때는 np.array 사용\n",
    "#### 2차원 array 사용 && np.float32로 dtype 지정"
   ]
  },
  {
   "cell_type": "code",
   "execution_count": 3,
   "id": "1707c56f",
   "metadata": {},
   "outputs": [],
   "source": [
    "x_train = np.array([[1.,1.],\n",
    "                    [1.,2.],\n",
    "                    [2.,1.],\n",
    "                    [3.,2.],\n",
    "                    [3.,3.],\n",
    "                    [2.,3.]],\n",
    "                  dtype = np.float32)\n",
    "y_train = np.array([[0.],\n",
    "                    [0.],\n",
    "                    [0.],\n",
    "                    [1.],\n",
    "                    [1.],\n",
    "                    [1.]],\n",
    "                  dtype = np.float32)\n",
    "x_test = np.array([[3.,0.],\n",
    "                   [4.,1.]],\n",
    "                 dtype = np.float32)\n",
    "y_test = np.array([[0.],\n",
    "                   [1.]],\n",
    "                 dtype = np.float32)"
   ]
  },
  {
   "cell_type": "markdown",
   "id": "ec94174c",
   "metadata": {},
   "source": [
    "### visualization(시각화 과정)"
   ]
  },
  {
   "cell_type": "markdown",
   "id": "16a78962",
   "metadata": {},
   "source": [
    "##### df에 각각 'x1', 'x2' 라는 이름의 column들을 만들고, x_train data를 할당함"
   ]
  },
  {
   "cell_type": "code",
   "execution_count": 4,
   "id": "73b1c7a6",
   "metadata": {},
   "outputs": [
    {
     "name": "stdout",
     "output_type": "stream",
     "text": [
      "    x1   x2\n",
      "0  1.0  1.0\n",
      "1  1.0  2.0\n",
      "2  2.0  1.0\n",
      "3  3.0  2.0\n",
      "4  3.0  3.0\n",
      "5  2.0  3.0\n"
     ]
    }
   ],
   "source": [
    "df = pd.DataFrame(x_train, columns=['x1','x2'])\n",
    "print(df)"
   ]
  },
  {
   "cell_type": "markdown",
   "id": "8dab797e",
   "metadata": {},
   "source": [
    "##### df에 'y'라는 이름의 column을 만들고, y_train data를 할당함"
   ]
  },
  {
   "cell_type": "code",
   "execution_count": 5,
   "id": "58526788",
   "metadata": {},
   "outputs": [
    {
     "name": "stdout",
     "output_type": "stream",
     "text": [
      "[[0.]\n",
      " [0.]\n",
      " [0.]\n",
      " [1.]\n",
      " [1.]\n",
      " [1.]]\n",
      "0    0.0\n",
      "1    0.0\n",
      "2    0.0\n",
      "3    1.0\n",
      "4    1.0\n",
      "5    1.0\n",
      "Name: y, dtype: float32\n"
     ]
    }
   ],
   "source": [
    "df['y'] = y_train\n",
    "print(y_train)\n",
    "print(df['y'])"
   ]
  },
  {
   "cell_type": "markdown",
   "id": "d3192098",
   "metadata": {},
   "source": [
    "##### test dataset도 마찬가지로 x, y를 할당"
   ]
  },
  {
   "cell_type": "code",
   "execution_count": 6,
   "id": "9a1ad42d",
   "metadata": {},
   "outputs": [],
   "source": [
    "df_test = pd.DataFrame(x_test, columns=['x1','x2'])\n",
    "df_test['y'] = y_test"
   ]
  },
  {
   "cell_type": "markdown",
   "id": "46b3086e",
   "metadata": {},
   "source": [
    "### plt module로 그래프 그리기(plot을 설정하는 함수이지 종류를 구체적으로 지정한 함수는 아닌 듯)\n",
    "##### 1. figsize로 plot 크기(inch단위) 설정\n",
    "##### 2. sns.scatterplot으로 scatterplot 그리기  *  hue, color의 의미?\n",
    "##### 3. plt.xlim, plt.ylim으로 x축, y축에 표시할 범위를 설정\n",
    "##### 4. plt.legend로 범례를 표시할 위치 설정\n",
    "##### 5. plt.show()로 plot을 보여줌"
   ]
  },
  {
   "cell_type": "markdown",
   "id": "562fc79e",
   "metadata": {},
   "source": [
    "### scatterplot attributes 자세히 보기: https://seaborn.pydata.org/generated/seaborn.scatterplot.html\n",
    "\n",
    "##### 'hue'는 어떤 variable의 값을 기준으로 색깔을 다르게 할지를 의미한다.\n",
    "##### -> hue = 'y'이면, y값이 다르면 data의 색을 다르게 표시한다는 의미이다. 그래서  hue와 color중 하나만 고를 수 있는 것 같다.\n",
    "##### 's'는 data 점의 size를 의미한다. s값은 숫자인데, 값이 클수록 data 하나의 점 크기가 커진다."
   ]
  },
  {
   "cell_type": "code",
   "execution_count": 7,
   "id": "c251d711",
   "metadata": {},
   "outputs": [
    {
     "data": {
      "image/png": "[encoded data removed]",
      "text/plain": [
       "<Figure size 432x432 with 1 Axes>"
      ]
     },
     "metadata": {
      "needs_background": "light"
     },
     "output_type": "display_data"
    }
   ],
   "source": [
    "plt.figure(figsize=(6,6))\n",
    "sns.scatterplot(x='x1',y='x2',hue='y',data=df,s=200)\n",
    "sns.scatterplot(x='x1',y='x2',color='red',data=df_test,s=100)\n",
    "plt.xlim(0,5)\n",
    "plt.ylim(-1,4)\n",
    "plt.legend(loc='lower right')\n",
    "plt.show()"
   ]
  },
  {
   "cell_type": "markdown",
   "id": "023c27ae",
   "metadata": {},
   "source": [
    "### 변수 설정하기\n",
    "##### 1. tf.Variable으로 변수 설정\n",
    "##### 2. tf.random.set_seed()로 random seed 설정\n",
    "##### 3. tf.random.normal([a,b]) : normal 분포에서 random하게 [a,b] 형테/matrix의 변수 지정\n"
   ]
  },
  {
   "cell_type": "code",
   "execution_count": 8,
   "id": "fc41a124",
   "metadata": {},
   "outputs": [
    {
     "name": "stdout",
     "output_type": "stream",
     "text": [
      "[[-0.3039583]\n",
      " [ 2.035347 ]]\n",
      "[-0.478958]\n"
     ]
    }
   ],
   "source": [
    "tf.random.set_seed(2000)\n",
    "W = tf.Variable(tf.random.normal([2,1], mean = 0.0))\n",
    "b = tf.Variable(tf.random.normal([1], mean = 0.0))\n",
    "\n",
    "print(W.numpy())\n",
    "print(b.numpy())"
   ]
  },
  {
   "cell_type": "markdown",
   "id": "e6342687",
   "metadata": {},
   "source": [
    "### model training에 사용할 function 만들기\n",
    "\n",
    "##### 1. tensorflow 2부터는 def으로 함수 직접 만들어서 해당 함수 적용 -> session, placeholder 사용X\n",
    "##### 2. tf.matmul(matrix1, matrix2) : matrix끼리 곱해지는 함수. \n",
    "##### ** tf.matmul(A, B) != tf.matmul(B, A)"
   ]
  },
  {
   "cell_type": "code",
   "execution_count": 9,
   "id": "8ac0c6b5",
   "metadata": {},
   "outputs": [],
   "source": [
    "learning_rate = 0.01\n",
    "\n",
    "def predict(X):\n",
    "    z = tf.matmul(X, W) + b\n",
    "    hypothesis = 1 / (1+tf.exp(-z))\n",
    "    return hypothesis\n",
    "\n"
   ]
  },
  {
   "cell_type": "markdown",
   "id": "910f0046",
   "metadata": {},
   "source": [
    "### model training 시작"
   ]
  },
  {
   "cell_type": "markdown",
   "id": "9eff105d",
   "metadata": {},
   "source": [
    "##### * 이전에 tf.GradientTape에서 뒤에 ()를 빼먹었는데, 그러면 AttributeError:__enter__ 이라는 에러가 발생한다."
   ]
  },
  {
   "cell_type": "code",
   "execution_count": 13,
   "id": "df1c80e6",
   "metadata": {},
   "outputs": [
    {
     "name": "stdout",
     "output_type": "stream",
     "text": [
      "0 \n",
      "Weights : [[-0.33346888]\n",
      " [ 2.0028284 ]]\n",
      "Bias : [-0.5027872]\n",
      "Cost: 6.185939\n",
      "400 \n",
      "Weights : [[0.61557525]\n",
      " [1.0534202 ]]\n",
      "Bias : [-2.9519806]\n",
      "Cost: 1.8920165\n",
      "800 \n",
      "Weights : [[1.1285322]\n",
      " [1.2219005]]\n",
      "Bias : [-4.3645086]\n",
      "Cost: 1.3099619\n",
      "1200 \n",
      "Weights : [[1.4153427]\n",
      " [1.4397296]]\n",
      "Bias : [-5.3987374]\n",
      "Cost: 1.007956\n",
      "1600 \n",
      "Weights : [[1.6239681]\n",
      " [1.6314763]]\n",
      "Bias : [-6.2151127]\n",
      "Cost: 0.8204323\n",
      "2000 \n",
      "Weights : [[1.7924588]\n",
      " [1.7950951]]\n",
      "Bias : [-6.890104]\n",
      "Cost: 0.6923404\n"
     ]
    }
   ],
   "source": [
    "for i in range(2001):\n",
    "    \n",
    "    with tf.GradientTape() as tape:  \n",
    "        hypothesis = predict(x_train)\n",
    "        cost = tf.reduce_mean(-tf.reduce_sum(y_train*tf.math.log(hypothesis) + (1-y_train)*tf.math.log(1-hypothesis)))\n",
    "        W_grad, b_grad = tape.gradient(cost, [W,b])\n",
    "        \n",
    "        W.assign_sub(learning_rate*W_grad)\n",
    "        b.assign_sub(learning_rate*b_grad)\n",
    "        \n",
    "    if i % 400 == 0:\n",
    "        print(\"%s \\nWeights : %s\\nBias : %s\\nCost: %s\" % (i, W.numpy(), b.numpy(), cost.numpy()))"
   ]
  },
  {
   "cell_type": "markdown",
   "id": "600623c4",
   "metadata": {},
   "source": [
    "### 학습한 모델로 Predict\n",
    "\n",
    "##### 1. .numpy()를 하면 해당 입력된 수의 값을 출력하는 것 같다.\n",
    "##### * 정확히 말하면, data가 Tensor로 입력되기 때문에 .numpy()가 없으면 숫자 값이 아니라 Tensor 값의 형태로 출력되어 알아보기 힘들다.\n",
    "##### 2. tf.cast(조건, data type) 로 입력하고, 조건이 맞으면 1, 아니면 0을 출력한다."
   ]
  },
  {
   "cell_type": "code",
   "execution_count": 18,
   "id": "d5a700d3",
   "metadata": {},
   "outputs": [
    {
     "name": "stdout",
     "output_type": "stream",
     "text": [
      "Prob : \n",
      " [[0.18053497]\n",
      " [0.8884323 ]]\n",
      "Result : \n",
      " [[0.]\n",
      " [1.]]\n"
     ]
    }
   ],
   "source": [
    "hypo = predict(x_test)\n",
    "print(\"Prob : \\n\" , (hypo.numpy()))\n",
    "print(\"Result : \\n\", tf.cast(hypo>0.5, dtype = tf.float32).numpy())"
   ]
  },
  {
   "cell_type": "markdown",
   "id": "f5faa9ec",
   "metadata": {},
   "source": [
    "### Accuracy 측정\n",
    "\n",
    "##### 1. tf.equal(A, B) : A와 B가 똑같은지 T/F으로 출력"
   ]
  },
  {
   "cell_type": "code",
   "execution_count": 22,
   "id": "8399f2c2",
   "metadata": {},
   "outputs": [
    {
     "name": "stdout",
     "output_type": "stream",
     "text": [
      "1.0\n"
     ]
    }
   ],
   "source": [
    "def acc(hypo, label):\n",
    "    prediction = tf.cast(hypo>0.5, dtype = tf.float32)\n",
    "    accuracy = tf.reduce_mean(tf.cast(tf.equal(prediction, label), dtype=tf.float32))\n",
    "    return accuracy\n",
    "\n",
    "accuracy = acc(predict(x_test), y_test).numpy()\n",
    "print(accuracy)"
   ]
  }
 ],
 "metadata": {
  "kernelspec": {
   "display_name": "Python 3",
   "language": "python",
   "name": "python3"
  },
  "language_info": {
   "codemirror_mode": {
    "name": "ipython",
    "version": 3
   },
   "file_extension": ".py",
   "mimetype": "text/x-python",
   "name": "python",
   "nbconvert_exporter": "python",
   "pygments_lexer": "ipython3",
   "version": "3.8.8"
  }
 },
 "nbformat": 4,
 "nbformat_minor": 5
}
